{
 "cells": [
  {
   "cell_type": "code",
   "execution_count": 2,
   "metadata": {},
   "outputs": [
    {
     "name": "stdout",
     "output_type": "stream",
     "text": [
      " * Serving Flask app '__main__'\n",
      " * Debug mode: off\n"
     ]
    }
   ],
   "source": [
    "import sys, os\n",
    "from signLanguage.utils.main_utils import decodeImage, encodeImageIntoBase64\n",
    "from flask import Flask, request, jsonify, render_template,Response\n",
    "from flask_cors import CORS, cross_origin\n",
    "\n",
    "app = Flask(__name__)\n",
    "CORS(app)\n",
    "\n",
    "class ClientApp:\n",
    "    def __init__(self):\n",
    "        self.filename = \"inputImage.jpg\"\n",
    "\n",
    "@app.route(\"/\")\n",
    "def home():\n",
    "    return render_template(\"index.html\")\n",
    "\n",
    "@app.route(\"/predict\", methods=['POST','GET'])\n",
    "@cross_origin()\n",
    "def predictRoute():\n",
    "    try:\n",
    "        image = request.json['image']\n",
    "        decodeImage(image, clApp.filename)\n",
    "\n",
    "        os.system(\"cd yolov5/ && python detect.py --weights my_model.pt --img 416 --conf 0.5 --source ../data/inputImage.jpg\")\n",
    "\n",
    "        opencodedbase64 = encodeImageIntoBase64(\"yolov5/runs/detect/exp/inputImage.jpg\")\n",
    "        result = {\"image\": opencodedbase64.decode('utf-8')}\n",
    "        os.system(\"rm -rf yolov5/runs\")\n",
    "\n",
    "    except ValueError as val:\n",
    "        print(val)\n",
    "        return Response(\"Value not found inside  json data\")\n",
    "    except KeyError:\n",
    "        return Response(\"Key value error incorrect key passed\")\n",
    "    except Exception as e:\n",
    "        print(e)\n",
    "        result = \"Invalid input\"\n",
    "\n",
    "    return jsonify(result)\n",
    "\n",
    "@app.route(\"/live\", methods=['GET'])\n",
    "@cross_origin()\n",
    "def predictLive():\n",
    "    try:\n",
    "        os.system(\"cd yolov5/ && python detect.py --weights best.pt --img 416 --conf 0.5 --source 0\")\n",
    "        os.system(\"rm -rf yolov5/runs\")\n",
    "        return \"Camera starting!!\" \n",
    "\n",
    "    except ValueError as val:\n",
    "        print(val)\n",
    "        return Response(\"Value not found inside  json data\")\n",
    "\n",
    "if __name__ == \"__main__\":\n",
    "    clApp = ClientApp()\n",
    "    app.run(host=\"0.0.0.0\", port=8080)"
   ]
  }
 ],
 "metadata": {
  "kernelspec": {
   "display_name": "myenv",
   "language": "python",
   "name": "python3"
  },
  "language_info": {
   "codemirror_mode": {
    "name": "ipython",
    "version": 3
   },
   "file_extension": ".py",
   "mimetype": "text/x-python",
   "name": "python",
   "nbconvert_exporter": "python",
   "pygments_lexer": "ipython3",
   "version": "3.8.20"
  }
 },
 "nbformat": 4,
 "nbformat_minor": 2
}
